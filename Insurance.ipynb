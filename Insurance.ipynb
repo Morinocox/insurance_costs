{
  "nbformat": 4,
  "nbformat_minor": 0,
  "metadata": {
    "colab": {
      "name": "Insurance.ipynb",
      "provenance": [],
      "mount_file_id": "15CaZZA_RoIJ7f1gvczA82DF4gsYXT3Yl",
      "authorship_tag": "ABX9TyMbUYRoFwI9F4aELNXWExVe"
    },
    "kernelspec": {
      "name": "python3",
      "display_name": "Python 3"
    },
    "language_info": {
      "name": "python"
    }
  },
  "cells": [
    {
      "cell_type": "markdown",
      "source": [
        "# PREDICTING HEALTH INSURANCE COSTS USING LINEAR REGRESSION"
      ],
      "metadata": {
        "id": "okShk2l2supO"
      }
    },
    {
      "cell_type": "markdown",
      "source": [
        "## Loading the needed libraries/modules"
      ],
      "metadata": {
        "id": "O8degJ56s8gw"
      }
    },
    {
      "cell_type": "code",
      "source": [
        "import pandas as pd\n",
        "import numpy as np\n",
        "import scipy as sp\n",
        "import sklearn as sk\n",
        "import matplotlib.pyplot as plt\n",
        "%matplotlib inline\n",
        "from sklearn.model_selection import cross_val_score, KFold\n",
        "from sklearn import model_selection\n",
        "from sklearn import linear_model\n",
        "from sklearn.metrics import mean_squared_error,mean_absolute_error"
      ],
      "metadata": {
        "id": "n1sZ_x5zs38k"
      },
      "execution_count": 35,
      "outputs": []
    },
    {
      "cell_type": "markdown",
      "source": [
        "## Loding the Data"
      ],
      "metadata": {
        "id": "Mt8zo3fEtOoV"
      }
    },
    {
      "cell_type": "code",
      "source": [
        "# libraries for the files in google drive\n",
        "from pydrive.auth import GoogleAuth\n",
        "from google.colab import drive\n",
        "from pydrive.drive import GoogleDrive\n",
        "from google.colab import auth\n",
        "from oauth2client.client import GoogleCredentials"
      ],
      "metadata": {
        "id": "rnxoTAuBvD-t"
      },
      "execution_count": 36,
      "outputs": []
    },
    {
      "cell_type": "code",
      "source": [
        "auth.authenticate_user()\n",
        "gauth = GoogleAuth()\n",
        "gauth.credentials = GoogleCredentials.get_application_default()\n",
        "drive = GoogleDrive(gauth)\n",
        "\n",
        "file_id = '10aMLSSI7Q-HGu8MaCh9X55VFLo_CCHYi' #<-- This is the file id, which i find in almost in the midle of the sharable link. \n",
        "\n",
        "download = drive.CreateFile({'id': file_id})\n",
        "\n",
        "\n",
        "# Downloading the file\n",
        "download.GetContentFile('insurance.csv')\n",
        "df  = pd.read_csv(\"insurance.csv\")\n",
        "df.head()"
      ],
      "metadata": {
        "colab": {
          "base_uri": "https://localhost:8080/",
          "height": 571
        },
        "id": "yyeZUFyQvHrp",
        "outputId": "f820d706-cc16-489a-fd14-e08a46a46ff5"
      },
      "execution_count": 37,
      "outputs": [
        {
          "output_type": "stream",
          "name": "stderr",
          "text": [
            "WARNING:googleapiclient.discovery_cache:file_cache is unavailable when using oauth2client >= 4.0.0 or google-auth\n",
            "Traceback (most recent call last):\n",
            "  File \"/usr/local/lib/python3.7/dist-packages/googleapiclient/discovery_cache/file_cache.py\", line 33, in <module>\n",
            "    from oauth2client.contrib.locked_file import LockedFile\n",
            "ModuleNotFoundError: No module named 'oauth2client.contrib.locked_file'\n",
            "\n",
            "During handling of the above exception, another exception occurred:\n",
            "\n",
            "Traceback (most recent call last):\n",
            "  File \"/usr/local/lib/python3.7/dist-packages/googleapiclient/discovery_cache/file_cache.py\", line 37, in <module>\n",
            "    from oauth2client.locked_file import LockedFile\n",
            "ModuleNotFoundError: No module named 'oauth2client.locked_file'\n",
            "\n",
            "During handling of the above exception, another exception occurred:\n",
            "\n",
            "Traceback (most recent call last):\n",
            "  File \"/usr/local/lib/python3.7/dist-packages/googleapiclient/discovery_cache/__init__.py\", line 44, in autodetect\n",
            "    from . import file_cache\n",
            "  File \"/usr/local/lib/python3.7/dist-packages/googleapiclient/discovery_cache/file_cache.py\", line 41, in <module>\n",
            "    \"file_cache is unavailable when using oauth2client >= 4.0.0 or google-auth\"\n",
            "ImportError: file_cache is unavailable when using oauth2client >= 4.0.0 or google-auth\n"
          ]
        },
        {
          "output_type": "execute_result",
          "data": {
            "text/plain": [
              "   age     sex     bmi  children smoker     region      charges\n",
              "0   19  female  27.900         0    yes  southwest  16884.92400\n",
              "1   18    male  33.770         1     no  southeast   1725.55230\n",
              "2   28    male  33.000         3     no  southeast   4449.46200\n",
              "3   33    male  22.705         0     no  northwest  21984.47061\n",
              "4   32    male  28.880         0     no  northwest   3866.85520"
            ],
            "text/html": [
              "\n",
              "  <div id=\"df-fd8fe574-1460-416c-9cbc-d8d8da485b73\">\n",
              "    <div class=\"colab-df-container\">\n",
              "      <div>\n",
              "<style scoped>\n",
              "    .dataframe tbody tr th:only-of-type {\n",
              "        vertical-align: middle;\n",
              "    }\n",
              "\n",
              "    .dataframe tbody tr th {\n",
              "        vertical-align: top;\n",
              "    }\n",
              "\n",
              "    .dataframe thead th {\n",
              "        text-align: right;\n",
              "    }\n",
              "</style>\n",
              "<table border=\"1\" class=\"dataframe\">\n",
              "  <thead>\n",
              "    <tr style=\"text-align: right;\">\n",
              "      <th></th>\n",
              "      <th>age</th>\n",
              "      <th>sex</th>\n",
              "      <th>bmi</th>\n",
              "      <th>children</th>\n",
              "      <th>smoker</th>\n",
              "      <th>region</th>\n",
              "      <th>charges</th>\n",
              "    </tr>\n",
              "  </thead>\n",
              "  <tbody>\n",
              "    <tr>\n",
              "      <th>0</th>\n",
              "      <td>19</td>\n",
              "      <td>female</td>\n",
              "      <td>27.900</td>\n",
              "      <td>0</td>\n",
              "      <td>yes</td>\n",
              "      <td>southwest</td>\n",
              "      <td>16884.92400</td>\n",
              "    </tr>\n",
              "    <tr>\n",
              "      <th>1</th>\n",
              "      <td>18</td>\n",
              "      <td>male</td>\n",
              "      <td>33.770</td>\n",
              "      <td>1</td>\n",
              "      <td>no</td>\n",
              "      <td>southeast</td>\n",
              "      <td>1725.55230</td>\n",
              "    </tr>\n",
              "    <tr>\n",
              "      <th>2</th>\n",
              "      <td>28</td>\n",
              "      <td>male</td>\n",
              "      <td>33.000</td>\n",
              "      <td>3</td>\n",
              "      <td>no</td>\n",
              "      <td>southeast</td>\n",
              "      <td>4449.46200</td>\n",
              "    </tr>\n",
              "    <tr>\n",
              "      <th>3</th>\n",
              "      <td>33</td>\n",
              "      <td>male</td>\n",
              "      <td>22.705</td>\n",
              "      <td>0</td>\n",
              "      <td>no</td>\n",
              "      <td>northwest</td>\n",
              "      <td>21984.47061</td>\n",
              "    </tr>\n",
              "    <tr>\n",
              "      <th>4</th>\n",
              "      <td>32</td>\n",
              "      <td>male</td>\n",
              "      <td>28.880</td>\n",
              "      <td>0</td>\n",
              "      <td>no</td>\n",
              "      <td>northwest</td>\n",
              "      <td>3866.85520</td>\n",
              "    </tr>\n",
              "  </tbody>\n",
              "</table>\n",
              "</div>\n",
              "      <button class=\"colab-df-convert\" onclick=\"convertToInteractive('df-fd8fe574-1460-416c-9cbc-d8d8da485b73')\"\n",
              "              title=\"Convert this dataframe to an interactive table.\"\n",
              "              style=\"display:none;\">\n",
              "        \n",
              "  <svg xmlns=\"http://www.w3.org/2000/svg\" height=\"24px\"viewBox=\"0 0 24 24\"\n",
              "       width=\"24px\">\n",
              "    <path d=\"M0 0h24v24H0V0z\" fill=\"none\"/>\n",
              "    <path d=\"M18.56 5.44l.94 2.06.94-2.06 2.06-.94-2.06-.94-.94-2.06-.94 2.06-2.06.94zm-11 1L8.5 8.5l.94-2.06 2.06-.94-2.06-.94L8.5 2.5l-.94 2.06-2.06.94zm10 10l.94 2.06.94-2.06 2.06-.94-2.06-.94-.94-2.06-.94 2.06-2.06.94z\"/><path d=\"M17.41 7.96l-1.37-1.37c-.4-.4-.92-.59-1.43-.59-.52 0-1.04.2-1.43.59L10.3 9.45l-7.72 7.72c-.78.78-.78 2.05 0 2.83L4 21.41c.39.39.9.59 1.41.59.51 0 1.02-.2 1.41-.59l7.78-7.78 2.81-2.81c.8-.78.8-2.07 0-2.86zM5.41 20L4 18.59l7.72-7.72 1.47 1.35L5.41 20z\"/>\n",
              "  </svg>\n",
              "      </button>\n",
              "      \n",
              "  <style>\n",
              "    .colab-df-container {\n",
              "      display:flex;\n",
              "      flex-wrap:wrap;\n",
              "      gap: 12px;\n",
              "    }\n",
              "\n",
              "    .colab-df-convert {\n",
              "      background-color: #E8F0FE;\n",
              "      border: none;\n",
              "      border-radius: 50%;\n",
              "      cursor: pointer;\n",
              "      display: none;\n",
              "      fill: #1967D2;\n",
              "      height: 32px;\n",
              "      padding: 0 0 0 0;\n",
              "      width: 32px;\n",
              "    }\n",
              "\n",
              "    .colab-df-convert:hover {\n",
              "      background-color: #E2EBFA;\n",
              "      box-shadow: 0px 1px 2px rgba(60, 64, 67, 0.3), 0px 1px 3px 1px rgba(60, 64, 67, 0.15);\n",
              "      fill: #174EA6;\n",
              "    }\n",
              "\n",
              "    [theme=dark] .colab-df-convert {\n",
              "      background-color: #3B4455;\n",
              "      fill: #D2E3FC;\n",
              "    }\n",
              "\n",
              "    [theme=dark] .colab-df-convert:hover {\n",
              "      background-color: #434B5C;\n",
              "      box-shadow: 0px 1px 3px 1px rgba(0, 0, 0, 0.15);\n",
              "      filter: drop-shadow(0px 1px 2px rgba(0, 0, 0, 0.3));\n",
              "      fill: #FFFFFF;\n",
              "    }\n",
              "  </style>\n",
              "\n",
              "      <script>\n",
              "        const buttonEl =\n",
              "          document.querySelector('#df-fd8fe574-1460-416c-9cbc-d8d8da485b73 button.colab-df-convert');\n",
              "        buttonEl.style.display =\n",
              "          google.colab.kernel.accessAllowed ? 'block' : 'none';\n",
              "\n",
              "        async function convertToInteractive(key) {\n",
              "          const element = document.querySelector('#df-fd8fe574-1460-416c-9cbc-d8d8da485b73');\n",
              "          const dataTable =\n",
              "            await google.colab.kernel.invokeFunction('convertToInteractive',\n",
              "                                                     [key], {});\n",
              "          if (!dataTable) return;\n",
              "\n",
              "          const docLinkHtml = 'Like what you see? Visit the ' +\n",
              "            '<a target=\"_blank\" href=https://colab.research.google.com/notebooks/data_table.ipynb>data table notebook</a>'\n",
              "            + ' to learn more about interactive tables.';\n",
              "          element.innerHTML = '';\n",
              "          dataTable['output_type'] = 'display_data';\n",
              "          await google.colab.output.renderOutput(dataTable, element);\n",
              "          const docLink = document.createElement('div');\n",
              "          docLink.innerHTML = docLinkHtml;\n",
              "          element.appendChild(docLink);\n",
              "        }\n",
              "      </script>\n",
              "    </div>\n",
              "  </div>\n",
              "  "
            ]
          },
          "metadata": {},
          "execution_count": 37
        }
      ]
    },
    {
      "cell_type": "code",
      "source": [
        "data = df\n",
        "data.info()"
      ],
      "metadata": {
        "colab": {
          "base_uri": "https://localhost:8080/"
        },
        "id": "yJE3lFRGwNBj",
        "outputId": "4f197aec-ca45-44bd-d24b-7465c6382ffa"
      },
      "execution_count": 38,
      "outputs": [
        {
          "output_type": "stream",
          "name": "stdout",
          "text": [
            "<class 'pandas.core.frame.DataFrame'>\n",
            "RangeIndex: 1338 entries, 0 to 1337\n",
            "Data columns (total 7 columns):\n",
            " #   Column    Non-Null Count  Dtype  \n",
            "---  ------    --------------  -----  \n",
            " 0   age       1338 non-null   int64  \n",
            " 1   sex       1338 non-null   object \n",
            " 2   bmi       1338 non-null   float64\n",
            " 3   children  1338 non-null   int64  \n",
            " 4   smoker    1338 non-null   object \n",
            " 5   region    1338 non-null   object \n",
            " 6   charges   1338 non-null   float64\n",
            "dtypes: float64(2), int64(2), object(3)\n",
            "memory usage: 73.3+ KB\n"
          ]
        }
      ]
    },
    {
      "cell_type": "markdown",
      "source": [
        "#### I first create a function to distinguish smokers from non-smokers"
      ],
      "metadata": {
        "id": "lEDNjrhFwq_F"
      }
    },
    {
      "cell_type": "code",
      "source": [
        "def identify_smoker(column):\n",
        "    identified=[]\n",
        "    \n",
        "    for row in column:\n",
        "        \n",
        "        if row==\"yes\":\n",
        "            identified.append(1)\n",
        "        else:\n",
        "            identified.append(0)\n",
        "        \n",
        "        \n",
        "    return identified\n",
        "data[\"smoker_norm\"]=identify_smoker(data[\"smoker\"])"
      ],
      "metadata": {
        "id": "07VYt5mBxx38"
      },
      "execution_count": 39,
      "outputs": []
    },
    {
      "cell_type": "code",
      "source": [
        "nonnum_cols=[col for col in data.select_dtypes(include=[\"object\"])]"
      ],
      "metadata": {
        "id": "LKElkdhqyZgr"
      },
      "execution_count": 40,
      "outputs": []
    },
    {
      "cell_type": "markdown",
      "source": [
        "### I also create a function that distinguis obese from non-obese"
      ],
      "metadata": {
        "id": "7PRUiHb5yiCK"
      }
    },
    {
      "cell_type": "code",
      "source": [
        "def identify_obese(column):\n",
        "    identified=[]\n",
        "    for row in column:\n",
        "        if row>30:\n",
        "            identified.append(1)\n",
        "        else:\n",
        "            identified.append(0)\n",
        "    return identified\n",
        "data[\"obese\"]=identify_obese(data[\"bmi\"])"
      ],
      "metadata": {
        "id": "2J6hdlQxyt3h"
      },
      "execution_count": 41,
      "outputs": []
    },
    {
      "cell_type": "code",
      "source": [
        "data.head(5)"
      ],
      "metadata": {
        "colab": {
          "base_uri": "https://localhost:8080/",
          "height": 206
        },
        "id": "bzhQBdLxzAHo",
        "outputId": "44704a54-ac98-4cf3-988a-4bc3f9874e17"
      },
      "execution_count": 42,
      "outputs": [
        {
          "output_type": "execute_result",
          "data": {
            "text/plain": [
              "   age     sex     bmi  children smoker     region      charges  smoker_norm  \\\n",
              "0   19  female  27.900         0    yes  southwest  16884.92400            1   \n",
              "1   18    male  33.770         1     no  southeast   1725.55230            0   \n",
              "2   28    male  33.000         3     no  southeast   4449.46200            0   \n",
              "3   33    male  22.705         0     no  northwest  21984.47061            0   \n",
              "4   32    male  28.880         0     no  northwest   3866.85520            0   \n",
              "\n",
              "   obese  \n",
              "0      0  \n",
              "1      1  \n",
              "2      1  \n",
              "3      0  \n",
              "4      0  "
            ],
            "text/html": [
              "\n",
              "  <div id=\"df-6d469767-80b8-454f-8901-f7c22ba1d7d8\">\n",
              "    <div class=\"colab-df-container\">\n",
              "      <div>\n",
              "<style scoped>\n",
              "    .dataframe tbody tr th:only-of-type {\n",
              "        vertical-align: middle;\n",
              "    }\n",
              "\n",
              "    .dataframe tbody tr th {\n",
              "        vertical-align: top;\n",
              "    }\n",
              "\n",
              "    .dataframe thead th {\n",
              "        text-align: right;\n",
              "    }\n",
              "</style>\n",
              "<table border=\"1\" class=\"dataframe\">\n",
              "  <thead>\n",
              "    <tr style=\"text-align: right;\">\n",
              "      <th></th>\n",
              "      <th>age</th>\n",
              "      <th>sex</th>\n",
              "      <th>bmi</th>\n",
              "      <th>children</th>\n",
              "      <th>smoker</th>\n",
              "      <th>region</th>\n",
              "      <th>charges</th>\n",
              "      <th>smoker_norm</th>\n",
              "      <th>obese</th>\n",
              "    </tr>\n",
              "  </thead>\n",
              "  <tbody>\n",
              "    <tr>\n",
              "      <th>0</th>\n",
              "      <td>19</td>\n",
              "      <td>female</td>\n",
              "      <td>27.900</td>\n",
              "      <td>0</td>\n",
              "      <td>yes</td>\n",
              "      <td>southwest</td>\n",
              "      <td>16884.92400</td>\n",
              "      <td>1</td>\n",
              "      <td>0</td>\n",
              "    </tr>\n",
              "    <tr>\n",
              "      <th>1</th>\n",
              "      <td>18</td>\n",
              "      <td>male</td>\n",
              "      <td>33.770</td>\n",
              "      <td>1</td>\n",
              "      <td>no</td>\n",
              "      <td>southeast</td>\n",
              "      <td>1725.55230</td>\n",
              "      <td>0</td>\n",
              "      <td>1</td>\n",
              "    </tr>\n",
              "    <tr>\n",
              "      <th>2</th>\n",
              "      <td>28</td>\n",
              "      <td>male</td>\n",
              "      <td>33.000</td>\n",
              "      <td>3</td>\n",
              "      <td>no</td>\n",
              "      <td>southeast</td>\n",
              "      <td>4449.46200</td>\n",
              "      <td>0</td>\n",
              "      <td>1</td>\n",
              "    </tr>\n",
              "    <tr>\n",
              "      <th>3</th>\n",
              "      <td>33</td>\n",
              "      <td>male</td>\n",
              "      <td>22.705</td>\n",
              "      <td>0</td>\n",
              "      <td>no</td>\n",
              "      <td>northwest</td>\n",
              "      <td>21984.47061</td>\n",
              "      <td>0</td>\n",
              "      <td>0</td>\n",
              "    </tr>\n",
              "    <tr>\n",
              "      <th>4</th>\n",
              "      <td>32</td>\n",
              "      <td>male</td>\n",
              "      <td>28.880</td>\n",
              "      <td>0</td>\n",
              "      <td>no</td>\n",
              "      <td>northwest</td>\n",
              "      <td>3866.85520</td>\n",
              "      <td>0</td>\n",
              "      <td>0</td>\n",
              "    </tr>\n",
              "  </tbody>\n",
              "</table>\n",
              "</div>\n",
              "      <button class=\"colab-df-convert\" onclick=\"convertToInteractive('df-6d469767-80b8-454f-8901-f7c22ba1d7d8')\"\n",
              "              title=\"Convert this dataframe to an interactive table.\"\n",
              "              style=\"display:none;\">\n",
              "        \n",
              "  <svg xmlns=\"http://www.w3.org/2000/svg\" height=\"24px\"viewBox=\"0 0 24 24\"\n",
              "       width=\"24px\">\n",
              "    <path d=\"M0 0h24v24H0V0z\" fill=\"none\"/>\n",
              "    <path d=\"M18.56 5.44l.94 2.06.94-2.06 2.06-.94-2.06-.94-.94-2.06-.94 2.06-2.06.94zm-11 1L8.5 8.5l.94-2.06 2.06-.94-2.06-.94L8.5 2.5l-.94 2.06-2.06.94zm10 10l.94 2.06.94-2.06 2.06-.94-2.06-.94-.94-2.06-.94 2.06-2.06.94z\"/><path d=\"M17.41 7.96l-1.37-1.37c-.4-.4-.92-.59-1.43-.59-.52 0-1.04.2-1.43.59L10.3 9.45l-7.72 7.72c-.78.78-.78 2.05 0 2.83L4 21.41c.39.39.9.59 1.41.59.51 0 1.02-.2 1.41-.59l7.78-7.78 2.81-2.81c.8-.78.8-2.07 0-2.86zM5.41 20L4 18.59l7.72-7.72 1.47 1.35L5.41 20z\"/>\n",
              "  </svg>\n",
              "      </button>\n",
              "      \n",
              "  <style>\n",
              "    .colab-df-container {\n",
              "      display:flex;\n",
              "      flex-wrap:wrap;\n",
              "      gap: 12px;\n",
              "    }\n",
              "\n",
              "    .colab-df-convert {\n",
              "      background-color: #E8F0FE;\n",
              "      border: none;\n",
              "      border-radius: 50%;\n",
              "      cursor: pointer;\n",
              "      display: none;\n",
              "      fill: #1967D2;\n",
              "      height: 32px;\n",
              "      padding: 0 0 0 0;\n",
              "      width: 32px;\n",
              "    }\n",
              "\n",
              "    .colab-df-convert:hover {\n",
              "      background-color: #E2EBFA;\n",
              "      box-shadow: 0px 1px 2px rgba(60, 64, 67, 0.3), 0px 1px 3px 1px rgba(60, 64, 67, 0.15);\n",
              "      fill: #174EA6;\n",
              "    }\n",
              "\n",
              "    [theme=dark] .colab-df-convert {\n",
              "      background-color: #3B4455;\n",
              "      fill: #D2E3FC;\n",
              "    }\n",
              "\n",
              "    [theme=dark] .colab-df-convert:hover {\n",
              "      background-color: #434B5C;\n",
              "      box-shadow: 0px 1px 3px 1px rgba(0, 0, 0, 0.15);\n",
              "      filter: drop-shadow(0px 1px 2px rgba(0, 0, 0, 0.3));\n",
              "      fill: #FFFFFF;\n",
              "    }\n",
              "  </style>\n",
              "\n",
              "      <script>\n",
              "        const buttonEl =\n",
              "          document.querySelector('#df-6d469767-80b8-454f-8901-f7c22ba1d7d8 button.colab-df-convert');\n",
              "        buttonEl.style.display =\n",
              "          google.colab.kernel.accessAllowed ? 'block' : 'none';\n",
              "\n",
              "        async function convertToInteractive(key) {\n",
              "          const element = document.querySelector('#df-6d469767-80b8-454f-8901-f7c22ba1d7d8');\n",
              "          const dataTable =\n",
              "            await google.colab.kernel.invokeFunction('convertToInteractive',\n",
              "                                                     [key], {});\n",
              "          if (!dataTable) return;\n",
              "\n",
              "          const docLinkHtml = 'Like what you see? Visit the ' +\n",
              "            '<a target=\"_blank\" href=https://colab.research.google.com/notebooks/data_table.ipynb>data table notebook</a>'\n",
              "            + ' to learn more about interactive tables.';\n",
              "          element.innerHTML = '';\n",
              "          dataTable['output_type'] = 'display_data';\n",
              "          await google.colab.output.renderOutput(dataTable, element);\n",
              "          const docLink = document.createElement('div');\n",
              "          docLink.innerHTML = docLinkHtml;\n",
              "          element.appendChild(docLink);\n",
              "        }\n",
              "      </script>\n",
              "    </div>\n",
              "  </div>\n",
              "  "
            ]
          },
          "metadata": {},
          "execution_count": 42
        }
      ]
    },
    {
      "cell_type": "markdown",
      "source": [
        "### Lets now explore what are the relationships between the features and the insurance costs"
      ],
      "metadata": {
        "id": "u32zwedYzsfb"
      }
    },
    {
      "cell_type": "code",
      "source": [
        "colnum=len(data.columns)-3\n",
        "fig,ax=plt.subplots(colnum,1,figsize=(3,25))\n",
        "ax[0].set_ylabel(\"charges\")\n",
        "p_vals={}\n",
        "for ind,col in enumerate([i for i in data.columns if i not in [\"smoker\",\"region\",\"charges\",\"sex_norm\"]]):\n",
        "    \n",
        "    ax[ind].scatter(data[col],data.charges,s=5)\n",
        "    ax[ind].set_xlabel(col)\n",
        "    ax[ind].set_ylabel(\"charges\")    \n",
        "plt.show()"
      ],
      "metadata": {
        "colab": {
          "base_uri": "https://localhost:8080/",
          "height": 1000
        },
        "id": "SuLTnnmizy8I",
        "outputId": "a1f3f607-87a8-45c3-ce6e-6c8eb5e80bf5"
      },
      "execution_count": 48,
      "outputs": [
        {
          "output_type": "display_data",
          "data": {
            "text/plain": [
              "<Figure size 216x1800 with 6 Axes>"
            ],
            "image/png": "[encoded data removed]"
          },
          "metadata": {
            "needs_background": "light"
          }
        }
      ]
    },
    {
      "cell_type": "code",
      "source": [
        "corr_values=[]\n",
        "collabel=[]\n",
        "for col in [i for i in data.columns if i not in nonnum_cols]:\n",
        "    \n",
        "    p_val=sp.stats.pearsonr(data[col],data[\"charges\"])\n",
        "    corr_values.append(np.abs(p_val[0]))\n",
        "    print(col,\": \",np.abs(p_val[0]))\n",
        "    collabel.append(col)\n",
        "plt.bar(range(1,len(corr_values)+1),corr_values)\n",
        "plt.xticks(range(1,len(corr_values)+1),collabel,rotation=45)\n",
        "plt.ylabel(\"Absolute Correlation\")"
      ],
      "metadata": {
        "colab": {
          "base_uri": "https://localhost:8080/",
          "height": 433
        },
        "id": "BETA_vGA0Vs7",
        "outputId": "453d2ebe-ef91-4721-f71e-af5d521af53c"
      },
      "execution_count": 49,
      "outputs": [
        {
          "output_type": "stream",
          "name": "stdout",
          "text": [
            "age :  0.2990081933306476\n",
            "bmi :  0.1983409688336288\n",
            "children :  0.0679982268479048\n",
            "charges :  1.0\n",
            "smoker_norm :  0.7872514304984775\n",
            "obese :  0.19968322199588243\n"
          ]
        },
        {
          "output_type": "execute_result",
          "data": {
            "text/plain": [
              "Text(0, 0.5, 'Absolute Correlation')"
            ]
          },
          "metadata": {},
          "execution_count": 49
        },
        {
          "output_type": "display_data",
          "data": {
            "text/plain": [
              "<Figure size 432x288 with 1 Axes>"
            ],
            "image/png": "[encoded data removed]"
          },
          "metadata": {
            "needs_background": "light"
          }
        }
      ]
    },
    {
      "cell_type": "markdown",
      "source": [
        "### It does seems like Smoking, Age and Obesity are the most contributive factors in the calculation of insurance costs, hence, those are the ones I'll use for my predictions."
      ],
      "metadata": {
        "id": "QNV6o9b-1XOe"
      }
    },
    {
      "cell_type": "code",
      "source": [
        "cols_not_reg = ['age', 'obese', 'smoker_norm']"
      ],
      "metadata": {
        "id": "MllXmGJt1lT_"
      },
      "execution_count": 51,
      "outputs": []
    },
    {
      "cell_type": "code",
      "source": [
        "seed=2\n",
        "results = []\n",
        "names = []\n",
        "\n",
        "def prediction (models):\n",
        "  for name, model in models:\n",
        "    kfold = KFold(10, random_state=None)\n",
        "    cv_results = cross_val_score(model, data[cols_not_reg3], data[\"charges\"], cv=kfold)\n",
        "    results.append(cv_results)\n",
        "    names.append(name)\n",
        "    msg = \"%s: %f (%f)\" % (name, np.mean(cv_results), np.std(cv_results))\n",
        "    print(msg)"
      ],
      "metadata": {
        "id": "aRTFvGA-1yII"
      },
      "execution_count": 57,
      "outputs": []
    },
    {
      "cell_type": "markdown",
      "source": [
        "### I will make the predicion using K-fold validation\n",
        "\n",
        "##### With this cross-validation, I create sets for training and testing, splitting the data into k equally sized portions. I then treat a single portion as a testing set, and what remains is used as training set. I run and test the models in all k portions, averagin the estimates. I'll try with 10 folds using Linear Regression."
      ],
      "metadata": {
        "id": "exvy-yCQ3emg"
      }
    },
    {
      "cell_type": "code",
      "source": [
        "kf=KFold(n_splits=10, random_state=1, shuffle=True)\n",
        "intercepts=[]\n",
        "mses=[]\n",
        "coefs=[]\n",
        "\n",
        "for train_index, test_index in kf.split(data[cols_not_reg]):\n",
        "    \n",
        "    lr=linear_model.LinearRegression()\n",
        "    lr.fit(data[cols_not_reg].iloc[train_index],data[\"charges\"].iloc[train_index])\n",
        "    lr_predictions=lr.predict(data[cols_not_reg].iloc[test_index])\n",
        "    \n",
        "    lr_mse=mean_squared_error(data[\"charges\"].iloc[test_index],lr_predictions)\n",
        "    \n",
        "    intercepts.append(lr.intercept_)\n",
        "    \n",
        "    coefs.append(lr.coef_)\n",
        "    mses.append(lr_mse)\n",
        "    "
      ],
      "metadata": {
        "id": "YTINiy8f25j_"
      },
      "execution_count": 60,
      "outputs": []
    },
    {
      "cell_type": "code",
      "source": [
        "rmses=[x**.5 for x in mses]\n",
        "avg_rmse=np.mean(rmses)\n",
        "avg_intercept=np.mean(intercepts)\n",
        "age_coefs=[]\n",
        "obesity_coefs=[]\n",
        "smoking_coefs=[]\n",
        "for vals in coefs:\n",
        "    #print vals[0]\n",
        "    age_coefs.append(vals[0])\n",
        "    obesity_coefs.append(vals[1])\n",
        "    smoking_coefs.append(vals[2])\n",
        "age_coef=np.mean(age_coefs)\n",
        "obesity_coef=np.mean(obesity_coefs)\n",
        "smoking_coef=np.mean(smoking_coefs)\n",
        "print(\"a: \",age_coef,\" b: \",obesity_coef,\" c: \",smoking_coef,\" intercept: \",avg_intercept)"
      ],
      "metadata": {
        "colab": {
          "base_uri": "https://localhost:8080/"
        },
        "id": "e0yPirzb3Kd5",
        "outputId": "a76adfa6-bd21-4dd8-dbf1-d7fd25cf727c"
      },
      "execution_count": 61,
      "outputs": [
        {
          "output_type": "stream",
          "name": "stdout",
          "text": [
            "a:  261.83801848327676  b:  4227.7376009403615  c:  23851.067053865718  intercept:  -4107.42213325581\n"
          ]
        }
      ]
    },
    {
      "cell_type": "markdown",
      "source": [
        "### Once i get the coefficients for the Linear Regression, I use a function to automatically predict the insurance costs for a given age, smoking and obesity values."
      ],
      "metadata": {
        "id": "iBJ3wZig4mzz"
      }
    },
    {
      "cell_type": "code",
      "source": [
        "def estimate_charges(age, obesity, smoking):\n",
        "  y=(age_coef*age)+(obesity_coef*obesity)+(smoking_coef*smoking)+avg_intercept\n",
        "  return y"
      ],
      "metadata": {
        "id": "k5d3aYo347eL"
      },
      "execution_count": 62,
      "outputs": []
    },
    {
      "cell_type": "code",
      "source": [
        "print(\"The predicted value for a 18 year old obese no smoker is\",estimate_charges(18,1,0))\n",
        "print(\"The predicted value for a 18 year old obese no smoker is\",estimate_charges(25,1,0))\n",
        "print(\"The predicted value for a 18 year old obese no smoker is\",estimate_charges(35,1,0))\n",
        "print(\"The predicted value for a 18 year old obese no smoker is\",estimate_charges(55,1,0))\n",
        "print(\"The predicted value for a 18 year old obese no smoker is\",estimate_charges(65,1,0))\n",
        "print(\" \")\n",
        "\n",
        "print(\"The predicted value for a 18 year old obese smoker is\",estimate_charges(18,1,1))\n",
        "print(\"The predicted value for a 18 year old obese smoker is\",estimate_charges(25,1,1))\n",
        "print(\"The predicted value for a 18 year old obese smoker is\",estimate_charges(35,1,1))\n",
        "print(\"The predicted value for a 18 year old obese smoker is\",estimate_charges(55,1,1))\n",
        "print(\"The predicted value for a 18 year old obese smoker is\",estimate_charges(65,1,1))"
      ],
      "metadata": {
        "colab": {
          "base_uri": "https://localhost:8080/"
        },
        "id": "gP1H3Y5b5UNX",
        "outputId": "4a8f1397-22d7-4440-8857-3f5fbda5d5ce"
      },
      "execution_count": 70,
      "outputs": [
        {
          "output_type": "stream",
          "name": "stdout",
          "text": [
            "The predicted value for a 18 year old obese no smoker is 4833.399800383533\n",
            "The predicted value for a 18 year old obese no smoker is 6666.26592976647\n",
            "The predicted value for a 18 year old obese no smoker is 9284.646114599238\n",
            "The predicted value for a 18 year old obese no smoker is 14521.406484264773\n",
            "The predicted value for a 18 year old obese no smoker is 17139.786669097542\n",
            " \n",
            "The predicted value for a 18 year old obese smoker is 28684.46685424925\n",
            "The predicted value for a 18 year old obese smoker is 30517.332983632194\n",
            "The predicted value for a 18 year old obese smoker is 33135.71316846496\n",
            "The predicted value for a 18 year old obese smoker is 38372.47353813049\n",
            "The predicted value for a 18 year old obese smoker is 40990.853722963264\n"
          ]
        }
      ]
    }
  ]
}